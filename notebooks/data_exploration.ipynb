{
  "nbformat": 4,
  "nbformat_minor": 0,
  "metadata": {
    "colab": {
      "provenance": []
    },
    "kernelspec": {
      "name": "python3",
      "display_name": "Python 3"
    },
    "language_info": {
      "name": "python"
    }
  },
  "cells": [
    {
      "cell_type": "markdown",
      "source": [
        "# HAM10000 Dataset Exploration\n",
        "\n",
        "This notebook explores the HAM10000 skin lesion dataset for classification. The dataset contains 10,015 dermatoscopic images of pigmented skin lesions across 7 diagnostic categories.\n",
        "\n",
        "## Dataset Overview\n",
        "\n",
        "The HAM10000 ('Human Against Machine with 10000 training images') dataset consists of 10015 dermatoscopic images released as a training set for academic machine learning purposes. The dataset includes images of common pigmented skin lesions from different populations, acquired and stored by different modalities.\n",
        "\n",
        "The 7 diagnostic categories in the dataset are:\n",
        "1. Actinic Keratoses (akiec) - 327 images\n",
        "2. Basal Cell Carcinoma (bcc) - 514 images\n",
        "3. Benign Keratosis-like Lesions (bkl) - 1099 images\n",
        "4. Dermatofibroma (df) - 115 images\n",
        "5. Melanoma (mel) - 1113 images\n",
        "6. Melanocytic Nevi (nv) - 6705 images\n",
        "7. Vascular Lesions (vasc) - 142 images"
      ],
      "metadata": {
        "id": "dUX7lSo35krU"
      }
    },
    {
      "cell_type": "code",
      "execution_count": null,
      "metadata": {
        "id": "GTNeogvt5HK_"
      },
      "outputs": [],
      "source": [
        "# Import required libraries\n",
        "import os\n",
        "import numpy as np\n",
        "import pandas as pd\n",
        "import matplotlib.pyplot as plt\n",
        "import seaborn as sns\n",
        "from PIL import Image\n",
        "import cv2\n",
        "from pathlib import Path\n",
        "import sys\n",
        "from collections import Counter\n",
        "from sklearn.decomposition import PCA\n",
        "from sklearn.manifold import TSNE\n",
        "import warnings\n",
        "warnings.filterwarnings('ignore')"
      ]
    },
    {
      "cell_type": "code",
      "source": [
        "# Add the project root directory to the Python path\n",
        "sys.path.append('/content/drive/MyDrive/Explainable-AI-for-Skin-Cancer-Detection')"
      ],
      "metadata": {
        "id": "K7ymv-9653LO"
      },
      "execution_count": null,
      "outputs": []
    },
    {
      "cell_type": "code",
      "source": [
        "# Import project modules\n",
        "from XAI.config import CLASS_NAMES, RAW_DATA_DIR\n",
        "from XAI.features import extract_color_histogram, extract_shape_features, extract_texture_features"
      ],
      "metadata": {
        "id": "sHrTHyk555rF"
      },
      "execution_count": null,
      "outputs": []
    },
    {
      "cell_type": "code",
      "source": [
        "# Set plotting style\n",
        "plt.style.use('ggplot')\n",
        "sns.set(style=\"whitegrid\")"
      ],
      "metadata": {
        "id": "yt66lNZM59Ct"
      },
      "execution_count": null,
      "outputs": []
    },
    {
      "cell_type": "code",
      "source": [
        "# Matplotlib settings for better visualization\n",
        "%matplotlib inline\n",
        "plt.rcParams['figure.figsize'] = (12, 8)\n",
        "plt.rcParams['font.size'] = 12"
      ],
      "metadata": {
        "id": "0bFhxLp26C7y"
      },
      "execution_count": null,
      "outputs": []
    },
    {
      "cell_type": "markdown",
      "source": [
        "## Loading the Dataset"
      ],
      "metadata": {
        "id": "gc3WtPoE6Hzc"
      }
    },
    {
      "cell_type": "code",
      "source": [
        "# Define paths\n",
        "DATA_DIR = Path('/content/drive/MyDrive/Explainable-AI-for-Skin-Cancer-Detection/data/raw')\n",
        "METADATA_FILE = DATA_DIR / 'HAM10000_metadata.csv'\n",
        "IMAGE_DIR_PART1 = DATA_DIR / 'HAM10000_images_part_1'\n",
        "IMAGE_DIR_PART2 = DATA_DIR / 'HAM10000_images_part_2'"
      ],
      "metadata": {
        "id": "LW29L7gd6E9t"
      },
      "execution_count": null,
      "outputs": []
    },
    {
      "cell_type": "code",
      "source": [
        "# Check if the files exist\n",
        "print(f\"Metadata file exists: {METADATA_FILE.exists()}\")\n",
        "print(f\"Image directory part 1 exists: {IMAGE_DIR_PART1.exists()}\")\n",
        "print(f\"Image directory part 2 exists: {IMAGE_DIR_PART2.exists()}\")"
      ],
      "metadata": {
        "id": "2Fk3SkWj6LUK"
      },
      "execution_count": null,
      "outputs": []
    },
    {
      "cell_type": "code",
      "source": [
        "# Load metadata\n",
        "metadata = pd.read_csv(METADATA_FILE)\n",
        "# Display first few rows\n",
        "metadata.head()"
      ],
      "metadata": {
        "id": "mYVGEpDH6NEb"
      },
      "execution_count": null,
      "outputs": []
    },
    {
      "cell_type": "code",
      "source": [
        "# Check the shape of the metadata\n",
        "print(f\"Metadata shape: {metadata.shape}\")"
      ],
      "metadata": {
        "id": "Jy6D91dg6QtZ"
      },
      "execution_count": null,
      "outputs": []
    },
    {
      "cell_type": "code",
      "source": [
        "# Check for missing values\n",
        "print(\"\\nMissing values:\")\n",
        "print(metadata.isnull().sum())"
      ],
      "metadata": {
        "id": "WAM7nji56Skr"
      },
      "execution_count": null,
      "outputs": []
    },
    {
      "cell_type": "markdown",
      "source": [
        "## Exploratory Data Analysis"
      ],
      "metadata": {
        "id": "xoOD8b3W6WXI"
      }
    },
    {
      "cell_type": "code",
      "source": [
        "# Display dataset information\n",
        "metadata.info()"
      ],
      "metadata": {
        "id": "lkMAjCzo6UUx"
      },
      "execution_count": null,
      "outputs": []
    },
    {
      "cell_type": "code",
      "source": [
        "# Statistical summary of numerical columns\n",
        "metadata.describe()"
      ],
      "metadata": {
        "id": "YhY1dqJ16ZsE"
      },
      "execution_count": null,
      "outputs": []
    },
    {
      "cell_type": "markdown",
      "source": [
        "### Class Distribution"
      ],
      "metadata": {
        "id": "GbWtMf9I6bPx"
      }
    },
    {
      "cell_type": "code",
      "source": [
        "# Count and visualize the distribution of diagnostic categories\n",
        "class_counts = metadata['dx'].value_counts()\n",
        "print(\"Class distribution:\")\n",
        "for class_name, count in class_counts.items():\n",
        "    print(f\"{CLASS_NAMES[class_name]}: {count} images ({count/len(metadata)*100:.2f}%)\")"
      ],
      "metadata": {
        "id": "QTDzGE9b6c98"
      },
      "execution_count": null,
      "outputs": []
    },
    {
      "cell_type": "code",
      "source": [
        "# Plot class distribution\n",
        "plt.figure(figsize=(12, 6))\n",
        "ax = sns.barplot(x=class_counts.index, y=class_counts.values)\n",
        "plt.xlabel('Class')\n",
        "plt.ylabel('Number of Images')\n",
        "plt.title('Class Distribution in HAM10000 Dataset')"
      ],
      "metadata": {
        "id": "w3PfV6Bx6fHi"
      },
      "execution_count": null,
      "outputs": []
    },
    {
      "cell_type": "code",
      "source": [
        "# Add value labels on top of bars\n",
        "for i, count in enumerate(class_counts.values):\n",
        "    ax.text(i, count + 50, str(count), ha='center')"
      ],
      "metadata": {
        "id": "gAsNSuMj6hAu"
      },
      "execution_count": null,
      "outputs": []
    },
    {
      "cell_type": "code",
      "source": [
        "# Replace class codes with full names\n",
        "plt.xticks(range(len(CLASS_NAMES)), [CLASS_NAMES[cls] for cls in class_counts.index], rotation=45, ha='right')\n",
        "plt.tight_layout()\n",
        "plt.show()"
      ],
      "metadata": {
        "id": "U2npEEvW6jkV"
      },
      "execution_count": null,
      "outputs": []
    },
    {
      "cell_type": "markdown",
      "source": [
        "We can see that the dataset is highly imbalanced, with 'Melanocytic Nevi' (nv) being the dominant class with 6705 images, while 'Dermatofibroma' (df) has only 115 images. This class imbalance will need to be addressed during model training.\n"
      ],
      "metadata": {
        "id": "sU5u12dI6pKC"
      }
    },
    {
      "cell_type": "markdown",
      "source": [
        "### Age Distribution"
      ],
      "metadata": {
        "id": "9vtSyaJg6s0s"
      }
    },
    {
      "cell_type": "code",
      "source": [
        "# Age distribution analysis\n",
        "plt.figure(figsize=(12, 6))\n",
        "sns.histplot(metadata['age'].dropna(), bins=20, kde=True)\n",
        "plt.title('Age Distribution in the Dataset')\n",
        "plt.xlabel('Age')\n",
        "plt.ylabel('Count')\n",
        "plt.show()"
      ],
      "metadata": {
        "id": "TgBUlOIT6lT-"
      },
      "execution_count": null,
      "outputs": []
    },
    {
      "cell_type": "code",
      "source": [
        "# Age distribution by diagnostic category\n",
        "plt.figure(figsize=(14, 8))\n",
        "sns.boxplot(x='dx', y='age', data=metadata)\n",
        "plt.title('Age Distribution by Diagnostic Category')\n",
        "plt.xlabel('Diagnostic Category')\n",
        "plt.ylabel('Age')\n",
        "plt.xticks(range(len(CLASS_NAMES)), [CLASS_NAMES[cls] for cls in sorted(metadata['dx'].unique())], rotation=45, ha='right')\n",
        "plt.tight_layout()\n",
        "plt.show()"
      ],
      "metadata": {
        "id": "bQvrbz_26vW5"
      },
      "execution_count": null,
      "outputs": []
    },
    {
      "cell_type": "code",
      "source": [
        "# Statistical summary of age by class\n",
        "age_by_class = metadata.groupby('dx')['age'].describe()\n",
        "age_by_class"
      ],
      "metadata": {
        "id": "O3biLKz06w9t"
      },
      "execution_count": null,
      "outputs": []
    },
    {
      "cell_type": "markdown",
      "source": [
        "The age distribution shows that skin lesions occur predominantly in middle-aged and older adults. Some classes like 'Actinic Keratoses' tend to occur in older populations, which makes sense as these are related to sun damage over time.\n"
      ],
      "metadata": {
        "id": "jsXFxpQk608p"
      }
    },
    {
      "cell_type": "markdown",
      "source": [
        "### Sex Distribution"
      ],
      "metadata": {
        "id": "M0stU9PL64zt"
      }
    },
    {
      "cell_type": "code",
      "source": [
        "# Sex distribution\n",
        "sex_counts = metadata['sex'].value_counts()\n",
        "plt.figure(figsize=(8, 6))\n",
        "sex_counts.plot(kind='pie', autopct='%1.1f%%')\n",
        "plt.title('Sex Distribution in the Dataset')\n",
        "plt.ylabel('')\n",
        "plt.show()"
      ],
      "metadata": {
        "id": "IXvzlhHK6yvg"
      },
      "execution_count": null,
      "outputs": []
    },
    {
      "cell_type": "code",
      "source": [
        "# Sex distribution by diagnostic category\n",
        "plt.figure(figsize=(14, 6))\n",
        "sex_by_dx = pd.crosstab(metadata['dx'], metadata['sex'])\n",
        "sex_by_dx_norm = sex_by_dx.div(sex_by_dx.sum(axis=1), axis=0)\n",
        "sex_by_dx_norm.plot(kind='bar', stacked=True)\n",
        "plt.title('Sex Distribution by Diagnostic Category')\n",
        "plt.xlabel('Diagnostic Category')\n",
        "plt.ylabel('Proportion')\n",
        "plt.xticks(range(len(CLASS_NAMES)), [CLASS_NAMES[cls] for cls in sex_by_dx.index], rotation=45, ha='right')\n",
        "plt.legend(title='Sex')\n",
        "plt.tight_layout()\n",
        "plt.show()"
      ],
      "metadata": {
        "id": "PBpHVQvT67aZ"
      },
      "execution_count": null,
      "outputs": []
    },
    {
      "cell_type": "code",
      "source": [
        "# Count of images by sex and diagnostic category\n",
        "sex_dx_counts = pd.crosstab(metadata['dx'], metadata['sex'])\n",
        "sex_dx_counts.columns = ['Female', 'Male', 'Unknown']\n",
        "sex_dx_counts.index = [CLASS_NAMES[cls] for cls in sex_dx_counts.index]\n",
        "sex_dx_counts"
      ],
      "metadata": {
        "id": "HgfaEmF469CR"
      },
      "execution_count": null,
      "outputs": []
    },
    {
      "cell_type": "markdown",
      "source": [
        "The dataset has more male patients than female, and there's a significant number of 'unknown' sex entries. Some skin lesion types show sex-based prevalence differences, which could be useful information for the model.\n"
      ],
      "metadata": {
        "id": "uQdZAH0A6-1E"
      }
    },
    {
      "cell_type": "markdown",
      "source": [
        "### Localization Distribution"
      ],
      "metadata": {
        "id": "bPURS8GZ7GoO"
      }
    },
    {
      "cell_type": "code",
      "source": [
        "# Localization distribution\n",
        "loc_counts = metadata['localization'].value_counts()\n",
        "plt.figure(figsize=(12, 6))\n",
        "loc_counts.plot(kind='bar')\n",
        "plt.title('Localization Distribution in the Dataset')\n",
        "plt.xlabel('Localization')\n",
        "plt.ylabel('Count')\n",
        "plt.xticks(rotation=45, ha='right')\n",
        "plt.tight_layout()\n",
        "plt.show()"
      ],
      "metadata": {
        "id": "0ZLmmq-j7Fdj"
      },
      "execution_count": null,
      "outputs": []
    },
    {
      "cell_type": "code",
      "source": [
        "# Localization distribution by diagnostic category\n",
        "plt.figure(figsize=(14, 8))\n",
        "loc_by_dx = pd.crosstab(metadata['dx'], metadata['localization'])\n",
        "loc_by_dx_norm = loc_by_dx.div(loc_by_dx.sum(axis=1), axis=0)\n",
        "loc_by_dx_norm.plot(kind='bar', stacked=True)\n",
        "plt.title('Localization Distribution by Diagnostic Category')\n",
        "plt.xlabel('Diagnostic Category')\n",
        "plt.ylabel('Proportion')\n",
        "plt.xticks(range(len(CLASS_NAMES)), [CLASS_NAMES[cls] for cls in loc_by_dx.index], rotation=45, ha='right')\n",
        "plt.legend(title='Localization', bbox_to_anchor=(1.05, 1), loc='upper left')\n",
        "plt.tight_layout()\n",
        "plt.show()"
      ],
      "metadata": {
        "id": "vWm9p-iM7DhV"
      },
      "execution_count": null,
      "outputs": []
    },
    {
      "cell_type": "code",
      "source": [
        "# Top 5 localizations by class\n",
        "for cls in metadata['dx'].unique():\n",
        "    class_df = metadata[metadata['dx'] == cls]\n",
        "    top_locs = class_df['localization'].value_counts().head(5)\n",
        "    print(f\"\\nTop 5 localizations for {CLASS_NAMES[cls]}:\")\n",
        "    for loc, count in top_locs.items():\n",
        "        print(f\"{loc}: {count} ({count/len(class_df)*100:.1f}%)\")"
      ],
      "metadata": {
        "id": "oWA3Sj3J7MPG"
      },
      "execution_count": null,
      "outputs": []
    },
    {
      "cell_type": "markdown",
      "source": [
        "The localization distribution shows that skin lesions have different prevalence patterns on the body. For instance, melanoma (mel) is more common on the back and trunk areas, which are more exposed to sun damage. Understanding these patterns can help in developing better diagnostic models.\n"
      ],
      "metadata": {
        "id": "t7suSpHz7OQh"
      }
    },
    {
      "cell_type": "markdown",
      "source": [
        "### Diagnosis Confirmation Methods"
      ],
      "metadata": {
        "id": "40NEeYXM7R4j"
      }
    },
    {
      "cell_type": "code",
      "source": [
        "# Diagnosis confirmation method distribution\n",
        "dx_type_counts = metadata['dx_type'].value_counts()\n",
        "plt.figure(figsize=(10, 6))\n",
        "dx_type_counts.plot(kind='bar')\n",
        "plt.title('Diagnosis Confirmation Methods in the Dataset')\n",
        "plt.xlabel('Confirmation Method')\n",
        "plt.ylabel('Count')\n",
        "plt.tight_layout()\n",
        "plt.show()"
      ],
      "metadata": {
        "id": "JU82b3Ey7Pz8"
      },
      "execution_count": null,
      "outputs": []
    },
    {
      "cell_type": "code",
      "source": [
        "# Percentage of each confirmation method\n",
        "print(\"Diagnosis confirmation methods:\")\n",
        "for method, count in dx_type_counts.items():\n",
        "    print(f\"{method}: {count} ({count/len(metadata)*100:.2f}%)\")"
      ],
      "metadata": {
        "id": "YWZvbYFn7UOL"
      },
      "execution_count": null,
      "outputs": []
    },
    {
      "cell_type": "code",
      "source": [
        "# Confirmation method by diagnostic category\n",
        "plt.figure(figsize=(14, 8))\n",
        "dx_type_by_dx = pd.crosstab(metadata['dx'], metadata['dx_type'])\n",
        "dx_type_by_dx_norm = dx_type_by_dx.div(dx_type_by_dx.sum(axis=1), axis=0)\n",
        "dx_type_by_dx_norm.plot(kind='bar', stacked=True)\n",
        "plt.title('Confirmation Method by Diagnostic Category')\n",
        "plt.xlabel('Diagnostic Category')\n",
        "plt.ylabel('Proportion')\n",
        "plt.xticks(range(len(CLASS_NAMES)), [CLASS_NAMES[cls] for cls in dx_type_by_dx.index], rotation=45, ha='right')\n",
        "plt.legend(title='Confirmation Method')\n",
        "plt.tight_layout()\n",
        "plt.show()"
      ],
      "metadata": {
        "id": "PY4DO3v97WxO"
      },
      "execution_count": null,
      "outputs": []
    },
    {
      "cell_type": "markdown",
      "source": [
        "Most of the diagnoses in the dataset are confirmed by histopathology, which is considered the gold standard. Different lesion types have different confirmation patterns, with melanoma (mel) and basal cell carcinoma (bcc) having high histopathology confirmation rates, likely because they're more critical to diagnose accurately."
      ],
      "metadata": {
        "id": "qg9iqgPf7ZcU"
      }
    },
    {
      "cell_type": "markdown",
      "source": [
        "### Image Samples"
      ],
      "metadata": {
        "id": "Kg7-bTJ07c-W"
      }
    },
    {
      "cell_type": "code",
      "source": [
        "# Display sample images from each class\n",
        "samples_per_class = 5\n",
        "fig, axs = plt.subplots(len(CLASS_NAMES), samples_per_class, figsize=(15, 3*len(CLASS_NAMES)))"
      ],
      "metadata": {
        "id": "jW2Fb-Aw7e0Q"
      },
      "execution_count": null,
      "outputs": []
    },
    {
      "cell_type": "code",
      "source": [
        "for i, class_name in enumerate(CLASS_NAMES.keys()):\n",
        "    # Get samples for this class\n",
        "    samples = metadata[metadata['dx'] == class_name].sample(min(samples_per_class, sum(metadata['dx'] == class_name)))\n",
        "\n",
        "    for j, (_, row) in enumerate(samples.iterrows()):\n",
        "        img_id = row['image_id']\n",
        "\n",
        "        # Find image file\n",
        "        img_path = None\n",
        "        for img_dir in [IMAGE_DIR_PART1, IMAGE_DIR_PART2]:\n",
        "            temp_path = img_dir / f\"{img_id}.jpg\"\n",
        "            if temp_path.exists():\n",
        "                img_path = temp_path\n",
        "                break\n",
        "\n",
        "        if img_path is None:\n",
        "            print(f\"Warning: Image {img_id} not found\")\n",
        "            continue\n",
        "\n",
        "        # Load and display image\n",
        "        img = Image.open(img_path)\n",
        "        axs[i, j].imshow(img)\n",
        "        axs[i, j].axis('off')\n",
        "\n",
        "        # Add class label to first image in row\n",
        "        if j == 0:\n",
        "            axs[i, j].set_title(f\"{CLASS_NAMES[class_name]}\", fontsize=12)\n",
        "\n",
        "plt.tight_layout()\n",
        "plt.show()"
      ],
      "metadata": {
        "id": "j_6AC6fF7hdA"
      },
      "execution_count": null,
      "outputs": []
    },
    {
      "cell_type": "markdown",
      "source": [
        "The sample images show the visual differences between the seven skin lesion classes. Some classes like melanoma (mel) and melanocytic nevi (nv) can look quite similar, which makes the classification task challenging.\n"
      ],
      "metadata": {
        "id": "ErEcaqW_7nMY"
      }
    },
    {
      "cell_type": "markdown",
      "source": [
        "### Image Properties Analysis"
      ],
      "metadata": {
        "id": "cAY0DdMD8r6P"
      }
    },
    {
      "cell_type": "code",
      "source": [
        "# Get a sample of images from each class for analysis\n",
        "sample_size = 20\n",
        "sample_data = []"
      ],
      "metadata": {
        "id": "DT3nDJc58pk2"
      },
      "execution_count": null,
      "outputs": []
    },
    {
      "cell_type": "code",
      "source": [
        "for class_name in CLASS_NAMES.keys():\n",
        "    class_samples = metadata[metadata['dx'] == class_name].sample(\n",
        "        min(sample_size, sum(metadata['dx'] == class_name)), random_state=42\n",
        "    )\n",
        "\n",
        "    for _, row in class_samples.iterrows():\n",
        "        img_id = row['image_id']\n",
        "\n",
        "        # Find image file\n",
        "        img_path = None\n",
        "        for img_dir in [IMAGE_DIR_PART1, IMAGE_DIR_PART2]:\n",
        "            temp_path = img_dir / f\"{img_id}.jpg\"\n",
        "            if temp_path.exists():\n",
        "                img_path = temp_path\n",
        "                break\n",
        "\n",
        "        if img_path is None:\n",
        "            continue\n",
        "\n",
        "        # Read image\n",
        "        img = cv2.imread(str(img_path))\n",
        "        img = cv2.cvtColor(img, cv2.COLOR_BGR2RGB)\n",
        "\n",
        "        # Get image properties\n",
        "        height, width, channels = img.shape\n",
        "        aspect_ratio = width / height\n",
        "        mean_color = np.mean(img, axis=(0, 1))\n",
        "        std_color = np.std(img, axis=(0, 1))\n",
        "\n",
        "        # Extract color histogram\n",
        "        color_hist = extract_color_histogram(img, bins=8)  # Reduced bins for simplicity\n",
        "\n",
        "        # Extract shape features\n",
        "        shape_features = extract_shape_features(img)\n",
        "\n",
        "        # Extract texture features\n",
        "        texture_features = extract_texture_features(img)\n",
        "\n",
        "        # Combine all features\n",
        "        sample_data.append({\n",
        "            'image_id': img_id,\n",
        "            'class': class_name,\n",
        "            'height': height,\n",
        "            'width': width,\n",
        "            'aspect_ratio': aspect_ratio,\n",
        "            'mean_r': mean_color[0],\n",
        "            'mean_g': mean_color[1],\n",
        "            'mean_b': mean_color[2],\n",
        "            'std_r': std_color[0],\n",
        "            'std_g': std_color[1],\n",
        "            'std_b': std_color[2],\n",
        "            'color_hist': color_hist,\n",
        "            'shape_features': shape_features,\n",
        "            'texture_features': texture_features\n",
        "        })"
      ],
      "metadata": {
        "id": "2x_IGZFI8uS1"
      },
      "execution_count": null,
      "outputs": []
    },
    {
      "cell_type": "code",
      "source": [
        "# Convert to DataFrame\n",
        "sample_df = pd.DataFrame(sample_data)"
      ],
      "metadata": {
        "id": "Po9C3_1M8xnF"
      },
      "execution_count": null,
      "outputs": []
    },
    {
      "cell_type": "code",
      "source": [
        "# Analyze basic image properties\n",
        "plt.figure(figsize=(12, 8))\n",
        "\n",
        "# Image dimensions\n",
        "plt.subplot(2, 2, 1)\n",
        "plt.scatter(sample_df['width'], sample_df['height'], c=sample_df['class'].astype('category').cat.codes, alpha=0.7)\n",
        "plt.title('Image Dimensions')\n",
        "plt.xlabel('Width (pixels)')\n",
        "plt.ylabel('Height (pixels)')\n",
        "plt.colorbar(ticks=range(len(CLASS_NAMES)), label='Class')"
      ],
      "metadata": {
        "id": "NnG0tcn-8z47"
      },
      "execution_count": null,
      "outputs": []
    },
    {
      "cell_type": "code",
      "source": [
        "# Aspect ratio\n",
        "plt.subplot(2, 2, 2)\n",
        "sns.boxplot(x='class', y='aspect_ratio', data=sample_df)\n",
        "plt.title('Aspect Ratio by Class')\n",
        "plt.xlabel('Class')\n",
        "plt.ylabel('Aspect Ratio (width/height)')\n",
        "plt.xticks(rotation=45, ha='right')"
      ],
      "metadata": {
        "id": "bVyGhHaV82D3"
      },
      "execution_count": null,
      "outputs": []
    },
    {
      "cell_type": "code",
      "source": [
        "# Mean color\n",
        "plt.subplot(2, 2, 3)\n",
        "for i, color in enumerate(['mean_r', 'mean_g', 'mean_b']):\n",
        "    sns.kdeplot(data=sample_df, x=color, label=color.split('_')[1].upper())\n",
        "plt.title('Mean Color Distribution')\n",
        "plt.xlabel('Pixel Value')\n",
        "plt.ylabel('Density')\n",
        "plt.legend()"
      ],
      "metadata": {
        "id": "qhVnDeGY83rC"
      },
      "execution_count": null,
      "outputs": []
    },
    {
      "cell_type": "code",
      "source": [
        "# Color standard deviation\n",
        "plt.subplot(2, 2, 4)\n",
        "for i, color in enumerate(['std_r', 'std_g', 'std_b']):\n",
        "    sns.kdeplot(data=sample_df, x=color, label=color.split('_')[1].upper())\n",
        "plt.title('Color Standard Deviation Distribution')\n",
        "plt.xlabel('Pixel Value')\n",
        "plt.ylabel('Density')\n",
        "plt.legend()\n",
        "\n",
        "plt.tight_layout()\n",
        "plt.show()"
      ],
      "metadata": {
        "id": "or0_mzWx85RX"
      },
      "execution_count": null,
      "outputs": []
    },
    {
      "cell_type": "markdown",
      "source": [
        "These analyses show that the images have fairly consistent dimensions but vary in their color properties. This information can be useful for preprocessing decisions.\n"
      ],
      "metadata": {
        "id": "EoF_ROAM87RA"
      }
    },
    {
      "cell_type": "markdown",
      "source": [
        "### Color Analysis"
      ],
      "metadata": {
        "id": "OKqZ308K9AQv"
      }
    },
    {
      "cell_type": "code",
      "source": [
        "# Color histograms by class\n",
        "# Get average color histogram for each class\n",
        "class_hist_means = {}\n",
        "bins = 8  # Must match the bins used earlier"
      ],
      "metadata": {
        "id": "gisCy_kL89M-"
      },
      "execution_count": null,
      "outputs": []
    },
    {
      "cell_type": "code",
      "source": [
        "for class_name in CLASS_NAMES.keys():\n",
        "    class_samples = sample_df[sample_df['class'] == class_name]\n",
        "    if len(class_samples) == 0:\n",
        "        continue\n",
        "\n",
        "    # Stack all histograms and compute mean\n",
        "    hist_stack = np.vstack(class_samples['color_hist'].values)\n",
        "    class_hist_means[class_name] = np.mean(hist_stack, axis=0)"
      ],
      "metadata": {
        "id": "GgZbhyCe9NDI"
      },
      "execution_count": null,
      "outputs": []
    },
    {
      "cell_type": "code",
      "source": [
        "# Plot average color histograms\n",
        "plt.figure(figsize=(14, 10))"
      ],
      "metadata": {
        "id": "jZOeQA9H9QX4"
      },
      "execution_count": null,
      "outputs": []
    },
    {
      "cell_type": "code",
      "source": [
        "for i, (class_name, hist) in enumerate(class_hist_means.items()):\n",
        "    plt.subplot(3, 3, i+1)\n",
        "\n",
        "    # Reshape to separate RGB channels\n",
        "    hist_r = hist[:bins]\n",
        "    hist_g = hist[bins:2*bins]\n",
        "    hist_b = hist[2*bins:3*bins]\n",
        "\n",
        "    bin_edges = np.linspace(0, 256, bins+1)[:-1]\n",
        "    width = 256 / bins\n",
        "\n",
        "    plt.bar(bin_edges, hist_r, width=width, alpha=0.7, color='r', label='R')\n",
        "    plt.bar(bin_edges, hist_g, width=width, alpha=0.7, color='g', label='G')\n",
        "    plt.bar(bin_edges, hist_b, width=width, alpha=0.7, color='b', label='B')\n",
        "\n",
        "    plt.title(f\"{CLASS_NAMES[class_name]}\")\n",
        "    plt.xlabel('Pixel Value')\n",
        "    plt.ylabel('Normalized Frequency')\n",
        "    plt.legend()\n",
        "\n",
        "plt.tight_layout()\n",
        "plt.show()"
      ],
      "metadata": {
        "id": "SYDmdala9SW5"
      },
      "execution_count": null,
      "outputs": []
    },
    {
      "cell_type": "markdown",
      "source": [
        "The color histograms show class-specific color patterns, which is expected since different types of skin lesions have characteristic colorations.\n"
      ],
      "metadata": {
        "id": "QgGqgG7Z9Wmu"
      }
    },
    {
      "cell_type": "markdown",
      "source": [
        "### Shape Analysis"
      ],
      "metadata": {
        "id": "EH1NOobq9Z_H"
      }
    },
    {
      "cell_type": "code",
      "source": [
        "# Analyze shape features\n",
        "shape_features = np.vstack(sample_df['shape_features'].values)\n",
        "shape_df = pd.DataFrame(shape_features, columns=[f'shape_{i}' for i in range(shape_features.shape[1])])\n",
        "shape_df['class'] = sample_df['class'].values"
      ],
      "metadata": {
        "id": "apMj9En-9UqC"
      },
      "execution_count": null,
      "outputs": []
    },
    {
      "cell_type": "code",
      "source": [
        "# Plot first two shape features\n",
        "plt.figure(figsize=(10, 8))\n",
        "sns.scatterplot(x='shape_0', y='shape_1', hue='class', data=shape_df)\n",
        "plt.title('Shape Features by Class (First Two Hu Moments)')\n",
        "plt.xlabel('Shape Feature 1')\n",
        "plt.ylabel('Shape Feature 2')\n",
        "plt.legend(title='Class')\n",
        "plt.show()"
      ],
      "metadata": {
        "id": "l58U7pFD9dmH"
      },
      "execution_count": null,
      "outputs": []
    },
    {
      "cell_type": "markdown",
      "source": [
        "The shape features (Hu moments) show some separation between classes, indicating that shape is an important characteristic for distinguishing different types of skin lesions.\n"
      ],
      "metadata": {
        "id": "sosmk5y89fnj"
      }
    },
    {
      "cell_type": "markdown",
      "source": [
        "### Texture Analysis"
      ],
      "metadata": {
        "id": "-QlyhGf29lGJ"
      }
    },
    {
      "cell_type": "code",
      "source": [
        "# Analyze texture features\n",
        "texture_features = np.vstack(sample_df['texture_features'].values)\n",
        "texture_df = pd.DataFrame(texture_features, columns=[f'texture_{i}' for i in range(texture_features.shape[1])])\n",
        "texture_df['class'] = sample_df['class'].values"
      ],
      "metadata": {
        "id": "kmK5hUHG9imh"
      },
      "execution_count": null,
      "outputs": []
    },
    {
      "cell_type": "code",
      "source": [
        "# Plot first two texture features\n",
        "plt.figure(figsize=(10, 8))\n",
        "sns.scatterplot(x='texture_0', y='texture_1', hue='class', data=texture_df)\n",
        "plt.title('Texture Features by Class (First Two Haralick Features)')\n",
        "plt.xlabel('Texture Feature 1')\n",
        "plt.ylabel('Texture Feature 2')\n",
        "plt.legend(title='Class')\n",
        "plt.show()"
      ],
      "metadata": {
        "id": "nB8YIDdT9nui"
      },
      "execution_count": null,
      "outputs": []
    },
    {
      "cell_type": "markdown",
      "source": [
        "The scatter plot of texture features shows some separation between classes, indicating that texture is an important characteristic for distinguishing different types of skin lesions.\n"
      ],
      "metadata": {
        "id": "Gdo7d_cm9rxU"
      }
    },
    {
      "cell_type": "markdown",
      "source": [
        "### Dimensionality Reduction"
      ],
      "metadata": {
        "id": "2Mmv-yrh9v4g"
      }
    },
    {
      "cell_type": "code",
      "source": [
        "# Combine all features for dimensionality reduction\n",
        "# Standardize the features\n",
        "from sklearn.preprocessing import StandardScaler"
      ],
      "metadata": {
        "id": "iWAeQjzf9pld"
      },
      "execution_count": null,
      "outputs": []
    },
    {
      "cell_type": "code",
      "source": [
        "# Combine all features\n",
        "combined_features = np.hstack([\n",
        "    StandardScaler().fit_transform(np.vstack(sample_df['color_hist'].values)),\n",
        "    StandardScaler().fit_transform(np.vstack(sample_df['shape_features'].values)),\n",
        "    StandardScaler().fit_transform(np.vstack(sample_df['texture_features'].values))\n",
        "])"
      ],
      "metadata": {
        "id": "RxdmQgJb9yl_"
      },
      "execution_count": null,
      "outputs": []
    },
    {
      "cell_type": "code",
      "source": [
        "# Apply PCA for visualization\n",
        "pca = PCA(n_components=2)\n",
        "pca_result = pca.fit_transform(combined_features)"
      ],
      "metadata": {
        "id": "iQgqpMqB90rD"
      },
      "execution_count": null,
      "outputs": []
    },
    {
      "cell_type": "code",
      "source": [
        "# Create DataFrame for plotting\n",
        "pca_df = pd.DataFrame(data=pca_result, columns=['PC1', 'PC2'])\n",
        "pca_df['class'] = sample_df['class'].values\n",
        "pca_df['class_name'] = pca_df['class'].map(CLASS_NAMES)"
      ],
      "metadata": {
        "id": "yrMvpxkm92Yw"
      },
      "execution_count": null,
      "outputs": []
    },
    {
      "cell_type": "code",
      "source": [
        "# Plot PCA results\n",
        "plt.figure(figsize=(12, 10))\n",
        "sns.scatterplot(x='PC1', y='PC2', hue='class_name', data=pca_df, palette='tab10', s=100, alpha=0.7)\n",
        "plt.title('PCA of Combined Features by Class')\n",
        "plt.xlabel(f'Principal Component 1 ({pca.explained_variance_ratio_[0]:.2%} variance)')\n",
        "plt.ylabel(f'Principal Component 2 ({pca.explained_variance_ratio_[1]:.2%} variance)')\n",
        "plt.legend(title='Class', loc='best')\n",
        "plt.grid(True, linestyle='--', alpha=0.7)\n",
        "plt.tight_layout()\n",
        "plt.show()"
      ],
      "metadata": {
        "id": "8vPAUyvU94ZE"
      },
      "execution_count": null,
      "outputs": []
    },
    {
      "cell_type": "code",
      "source": [
        "# Apply t-SNE for more complex visualization\n",
        "tsne = TSNE(n_components=2, perplexity=min(30, len(sample_df) - 1), random_state=42)\n",
        "tsne_result = tsne.fit_transform(combined_features)"
      ],
      "metadata": {
        "id": "ir3JgCm2957Y"
      },
      "execution_count": null,
      "outputs": []
    },
    {
      "cell_type": "code",
      "source": [
        "# Create DataFrame for plotting\n",
        "tsne_df = pd.DataFrame(data=tsne_result, columns=['t-SNE1', 't-SNE2'])\n",
        "tsne_df['class'] = sample_df['class'].values\n",
        "tsne_df['class_name'] = tsne_df['class'].map(CLASS_NAMES)"
      ],
      "metadata": {
        "id": "Sh1xVI9_97zh"
      },
      "execution_count": null,
      "outputs": []
    },
    {
      "cell_type": "code",
      "source": [
        "# Plot t-SNE results\n",
        "plt.figure(figsize=(12, 10))\n",
        "sns.scatterplot(x='t-SNE1', y='t-SNE2', hue='class_name', data=tsne_df, palette='tab10', s=100, alpha=0.7)\n",
        "plt.title('t-SNE of Combined Features by Class')\n",
        "plt.xlabel('t-SNE Dimension 1')\n",
        "plt.ylabel('t-SNE Dimension 2')\n",
        "plt.legend(title='Class', loc='best')\n",
        "plt.grid(True, linestyle='--', alpha=0.7)\n",
        "plt.tight_layout()\n",
        "plt.show()"
      ],
      "metadata": {
        "id": "mWqb2rPD99fM"
      },
      "execution_count": null,
      "outputs": []
    },
    {
      "cell_type": "markdown",
      "source": [
        "Both the PCA and t-SNE visualizations show that the combined features (color, shape, and texture) provide reasonable separation between the classes, although there is still considerable overlap. This suggests that these features are informative but not sufficient for perfect classification, highlighting the need for more sophisticated approaches like deep learning.\n"
      ],
      "metadata": {
        "id": "gd7UCVmm-Cy0"
      }
    },
    {
      "cell_type": "code",
      "source": [],
      "metadata": {
        "id": "OWcrWgZG9_hJ"
      },
      "execution_count": null,
      "outputs": []
    }
  ]
}